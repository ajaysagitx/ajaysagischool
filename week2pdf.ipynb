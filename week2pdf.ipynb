{
 "cells": [
  {
   "cell_type": "code",
   "execution_count": 1,
   "id": "46d34e6f",
   "metadata": {},
   "outputs": [],
   "source": [
    "num=5"
   ]
  },
  {
   "cell_type": "code",
   "execution_count": 3,
   "id": "d7dff9a5",
   "metadata": {},
   "outputs": [
    {
     "data": {
      "text/plain": [
       "int"
      ]
     },
     "execution_count": 3,
     "metadata": {},
     "output_type": "execute_result"
    }
   ],
   "source": [
    "type(num)"
   ]
  },
  {
   "cell_type": "code",
   "execution_count": 4,
   "id": "85bbef2a",
   "metadata": {},
   "outputs": [],
   "source": [
    "num=23475891"
   ]
  },
  {
   "cell_type": "code",
   "execution_count": 5,
   "id": "b416dd95",
   "metadata": {},
   "outputs": [
    {
     "data": {
      "text/plain": [
       "int"
      ]
     },
     "execution_count": 5,
     "metadata": {},
     "output_type": "execute_result"
    }
   ],
   "source": [
    "type(num)"
   ]
  },
  {
   "cell_type": "code",
   "execution_count": 6,
   "id": "5e3d8f73",
   "metadata": {},
   "outputs": [],
   "source": [
    "num=5.4"
   ]
  },
  {
   "cell_type": "code",
   "execution_count": 7,
   "id": "4d80b77f",
   "metadata": {},
   "outputs": [
    {
     "data": {
      "text/plain": [
       "float"
      ]
     },
     "execution_count": 7,
     "metadata": {},
     "output_type": "execute_result"
    }
   ],
   "source": [
    "type(num)"
   ]
  },
  {
   "cell_type": "code",
   "execution_count": 8,
   "id": "fad3b9d1",
   "metadata": {},
   "outputs": [],
   "source": [
    "num=2+5j"
   ]
  },
  {
   "cell_type": "code",
   "execution_count": 9,
   "id": "e53a5455",
   "metadata": {},
   "outputs": [
    {
     "data": {
      "text/plain": [
       "complex"
      ]
     },
     "execution_count": 9,
     "metadata": {},
     "output_type": "execute_result"
    }
   ],
   "source": [
    "type(num)"
   ]
  },
  {
   "cell_type": "code",
   "execution_count": 10,
   "id": "69cbc9c2",
   "metadata": {},
   "outputs": [
    {
     "data": {
      "text/plain": [
       "2.0"
      ]
     },
     "execution_count": 10,
     "metadata": {},
     "output_type": "execute_result"
    }
   ],
   "source": [
    "num.real"
   ]
  },
  {
   "cell_type": "code",
   "execution_count": 11,
   "id": "80a4f8d3",
   "metadata": {},
   "outputs": [
    {
     "data": {
      "text/plain": [
       "5.0"
      ]
     },
     "execution_count": 11,
     "metadata": {},
     "output_type": "execute_result"
    }
   ],
   "source": [
    "num.imag"
   ]
  },
  {
   "cell_type": "code",
   "execution_count": 12,
   "id": "f73c4dc4",
   "metadata": {},
   "outputs": [
    {
     "name": "stdout",
     "output_type": "stream",
     "text": [
      "Type of a:  <class 'int'>\n",
      "\n",
      "Type of b:  <class 'float'>\n",
      "\n",
      "Type of c:  <class 'complex'>\n"
     ]
    }
   ],
   "source": [
    "a=5\n",
    "print(\"Type of a: \", type(a))\n",
    "\n",
    "b=5.0\n",
    "print(\"\\nType of b: \", type(b))\n",
    "\n",
    "c=2+4j\n",
    "print(\"\\nType of c: \", type(c))"
   ]
  },
  {
   "cell_type": "code",
   "execution_count": 13,
   "id": "2173add8",
   "metadata": {},
   "outputs": [
    {
     "name": "stdout",
     "output_type": "stream",
     "text": [
      "Type of a:  <class 'int'>\n",
      "Type of b:  <class 'float'>\n",
      "Type of c:  <class 'complex'>\n"
     ]
    }
   ],
   "source": [
    "a=5\n",
    "print(\"Type of a: \", type(a))\n",
    "\n",
    "b=5.0\n",
    "print(\"Type of b: \", type(b))\n",
    "\n",
    "c=2+4j\n",
    "print(\"Type of c: \", type(c))"
   ]
  },
  {
   "cell_type": "code",
   "execution_count": 14,
   "id": "5c3f1123",
   "metadata": {},
   "outputs": [],
   "source": [
    "d=complex(4,-1)"
   ]
  },
  {
   "cell_type": "code",
   "execution_count": 15,
   "id": "12bb8fcf",
   "metadata": {},
   "outputs": [
    {
     "name": "stdout",
     "output_type": "stream",
     "text": [
      "(4-1j)\n"
     ]
    }
   ],
   "source": [
    "print(d)"
   ]
  },
  {
   "cell_type": "code",
   "execution_count": 16,
   "id": "b598d1b7",
   "metadata": {},
   "outputs": [
    {
     "data": {
      "text/plain": [
       "(1-2j)"
      ]
     },
     "execution_count": 16,
     "metadata": {},
     "output_type": "execute_result"
    }
   ],
   "source": [
    "complex(2,4)-complex(1,6)"
   ]
  },
  {
   "cell_type": "code",
   "execution_count": 17,
   "id": "70e208e5",
   "metadata": {},
   "outputs": [],
   "source": [
    "numbercollegegraduate=7500\n",
    "NumberCollegeGraduate=7500"
   ]
  },
  {
   "cell_type": "code",
   "execution_count": 18,
   "id": "61cb9413",
   "metadata": {},
   "outputs": [
    {
     "name": "stdout",
     "output_type": "stream",
     "text": [
      "7500 7500\n"
     ]
    }
   ],
   "source": [
    "print(numbercollegegraduate,NumberCollegeGraduate)"
   ]
  },
  {
   "cell_type": "code",
   "execution_count": 19,
   "id": "066e9426",
   "metadata": {},
   "outputs": [],
   "source": [
    "def hello():\n",
    "    print(\"Hello there\")\n",
    "    \n",
    "    hello()"
   ]
  },
  {
   "cell_type": "code",
   "execution_count": 20,
   "id": "75d2961c",
   "metadata": {},
   "outputs": [
    {
     "name": "stdout",
     "output_type": "stream",
     "text": [
      "Hello there\n"
     ]
    }
   ],
   "source": [
    "#Simple Python\n",
    "def hello():\n",
    "    print(\"Hello there\")\n",
    "    \n",
    "#First Time    \n",
    "hello()"
   ]
  },
  {
   "cell_type": "code",
   "execution_count": null,
   "id": "9f75bb5d",
   "metadata": {},
   "outputs": [],
   "source": [
    "h=1"
   ]
  },
  {
   "cell_type": "code",
   "execution_count": null,
   "id": "6a0dd327",
   "metadata": {},
   "outputs": [],
   "source": [
    "ha=2"
   ]
  },
  {
   "cell_type": "code",
   "execution_count": null,
   "id": "01cc2441",
   "metadata": {},
   "outputs": [],
   "source": [
    "hah=3"
   ]
  },
  {
   "cell_type": "code",
   "execution_count": 21,
   "id": "64cbe035",
   "metadata": {},
   "outputs": [
    {
     "ename": "NameError",
     "evalue": "name 'h' is not defined",
     "output_type": "error",
     "traceback": [
      "\u001b[1;31m---------------------------------------------------------------------------\u001b[0m",
      "\u001b[1;31mNameError\u001b[0m                                 Traceback (most recent call last)",
      "Cell \u001b[1;32mIn[21], line 1\u001b[0m\n\u001b[1;32m----> 1\u001b[0m \u001b[38;5;28mprint\u001b[39m(h,ha,hah)\n",
      "\u001b[1;31mNameError\u001b[0m: name 'h' is not defined"
     ]
    }
   ],
   "source": [
    "print(h,ha,hah)"
   ]
  },
  {
   "cell_type": "code",
   "execution_count": 22,
   "id": "794bc1ca",
   "metadata": {},
   "outputs": [
    {
     "data": {
      "text/plain": [
       "27"
      ]
     },
     "execution_count": 22,
     "metadata": {},
     "output_type": "execute_result"
    }
   ],
   "source": [
    "max(15,27)"
   ]
  },
  {
   "cell_type": "code",
   "execution_count": 23,
   "id": "61aceca0",
   "metadata": {},
   "outputs": [
    {
     "name": "stdout",
     "output_type": "stream",
     "text": [
      "Python\n",
      "I love Python\n"
     ]
    }
   ],
   "source": [
    "#create string\n",
    "\n",
    "name = 'Python'\n",
    "print(name)\n",
    "\n",
    "message='I love Python'\n",
    "print(message)"
   ]
  },
  {
   "cell_type": "code",
   "execution_count": 24,
   "id": "d7849ac0",
   "metadata": {},
   "outputs": [
    {
     "name": "stdout",
     "output_type": "stream",
     "text": [
      "Python\n",
      "I love Python\n"
     ]
    }
   ],
   "source": [
    "name = 'Python'\n",
    "print(name)\n",
    "\n",
    "message='I love Python'\n",
    "print(message)"
   ]
  },
  {
   "cell_type": "code",
   "execution_count": 25,
   "id": "ebf2f343",
   "metadata": {},
   "outputs": [
    {
     "name": "stdout",
     "output_type": "stream",
     "text": [
      "Python\n",
      "I hate Python\n"
     ]
    }
   ],
   "source": [
    "name = 'Python'\n",
    "print(name)\n",
    "\n",
    "message='I hate Python'\n",
    "print(message)"
   ]
  },
  {
   "cell_type": "code",
   "execution_count": 26,
   "id": "453c78d5",
   "metadata": {},
   "outputs": [
    {
     "name": "stdout",
     "output_type": "stream",
     "text": [
      "e\n"
     ]
    }
   ],
   "source": [
    "a=\"hello world\"\n",
    "print(a[1])"
   ]
  },
  {
   "cell_type": "code",
   "execution_count": 27,
   "id": "675a3a8c",
   "metadata": {},
   "outputs": [
    {
     "name": "stdout",
     "output_type": "stream",
     "text": [
      "h\n"
     ]
    }
   ],
   "source": [
    "a=\"hello world\"\n",
    "print(a[0])"
   ]
  },
  {
   "cell_type": "code",
   "execution_count": 28,
   "id": "9a31ae3c",
   "metadata": {},
   "outputs": [
    {
     "name": "stdout",
     "output_type": "stream",
     "text": [
      "r\n"
     ]
    }
   ],
   "source": [
    "a=\"hello world\"\n",
    "print(a[8])"
   ]
  },
  {
   "cell_type": "code",
   "execution_count": 31,
   "id": "ebf41715",
   "metadata": {},
   "outputs": [
    {
     "ename": "IndentationError",
     "evalue": "expected an indented block after 'for' statement on line 1 (1901277904.py, line 2)",
     "output_type": "error",
     "traceback": [
      "\u001b[1;36m  Cell \u001b[1;32mIn[31], line 2\u001b[1;36m\u001b[0m\n\u001b[1;33m    print(x)\u001b[0m\n\u001b[1;37m    ^\u001b[0m\n\u001b[1;31mIndentationError\u001b[0m\u001b[1;31m:\u001b[0m expected an indented block after 'for' statement on line 1\n"
     ]
    }
   ],
   "source": [
    "for x in \"Ajay Sagi\":\n",
    "print(x)"
   ]
  },
  {
   "cell_type": "code",
   "execution_count": 35,
   "id": "33ba4cf5",
   "metadata": {},
   "outputs": [
    {
     "name": "stdout",
     "output_type": "stream",
     "text": [
      "A\n",
      "j\n",
      "a\n",
      "y\n",
      " \n",
      "S\n",
      "a\n",
      "g\n",
      "i\n"
     ]
    }
   ],
   "source": [
    "for x in \"Ajay Sagi\":\n",
    "    print(x)"
   ]
  },
  {
   "cell_type": "code",
   "execution_count": 34,
   "id": "d7b38fe9",
   "metadata": {},
   "outputs": [
    {
     "name": "stdout",
     "output_type": "stream",
     "text": [
      "11\n"
     ]
    }
   ],
   "source": [
    "a=\"hello world\"\n",
    "print(len(a))"
   ]
  },
  {
   "cell_type": "code",
   "execution_count": 37,
   "id": "3fba389a",
   "metadata": {},
   "outputs": [
    {
     "name": "stdout",
     "output_type": "stream",
     "text": [
      "False\n",
      "True\n",
      "False\n"
     ]
    }
   ],
   "source": [
    "str1=\"Hello\"\n",
    "str2=\"Ajay\"\n",
    "str3=\"Hello\"\n",
    "\n",
    "print(str1==str2)\n",
    "\n",
    "print(str1==str3)\n",
    "\n",
    "print(str2==str3)"
   ]
  },
  {
   "cell_type": "code",
   "execution_count": 43,
   "id": "46cf6a64",
   "metadata": {},
   "outputs": [
    {
     "name": "stdout",
     "output_type": "stream",
     "text": [
      "ae\n",
      "lo,m\n",
      "l\n",
      "llo,michael\n"
     ]
    }
   ],
   "source": [
    "a='Hello,michael'\n",
    "print(a[-3:-1])\n",
    "print(a[3:7])\n",
    "print(a[-1:])\n",
    "print(a[2:])"
   ]
  },
  {
   "cell_type": "code",
   "execution_count": null,
   "id": "409ab7fb",
   "metadata": {},
   "outputs": [],
   "source": []
  }
 ],
 "metadata": {
  "kernelspec": {
   "display_name": "Python 3 (ipykernel)",
   "language": "python",
   "name": "python3"
  },
  "language_info": {
   "codemirror_mode": {
    "name": "ipython",
    "version": 3
   },
   "file_extension": ".py",
   "mimetype": "text/x-python",
   "name": "python",
   "nbconvert_exporter": "python",
   "pygments_lexer": "ipython3",
   "version": "3.11.5"
  }
 },
 "nbformat": 4,
 "nbformat_minor": 5
}
